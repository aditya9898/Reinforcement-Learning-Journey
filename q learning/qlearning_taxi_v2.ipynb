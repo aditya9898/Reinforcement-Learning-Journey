{
  "nbformat": 4,
  "nbformat_minor": 0,
  "metadata": {
    "colab": {
      "name": "qlearning-taxi-v2.ipynb",
      "version": "0.3.2",
      "provenance": []
    },
    "kernelspec": {
      "name": "python3",
      "display_name": "Python 3"
    }
  },
  "cells": [
    {
      "metadata": {
        "id": "7C3xDDw9c26e",
        "colab_type": "code",
        "colab": {
          "base_uri": "https://localhost:8080/",
          "height": 394
        },
        "outputId": "d98da1b4-56d2-4213-aa5b-271301188487"
      },
      "cell_type": "code",
      "source": [
        "!pip install gym"
      ],
      "execution_count": 1,
      "outputs": [
        {
          "output_type": "stream",
          "text": [
            "Collecting gym\n",
            "\u001b[?25l  Downloading https://files.pythonhosted.org/packages/c3/44/3a63e8b87f642db49ac81239620e68df8cfae223dcfda4f8508aec88d204/gym-0.10.8.tar.gz (1.5MB)\n",
            "\u001b[K    100% |████████████████████████████████| 1.5MB 9.3MB/s \n",
            "\u001b[?25hRequirement already satisfied: scipy in /usr/local/lib/python3.6/dist-packages (from gym) (0.19.1)\n",
            "Requirement already satisfied: numpy>=1.10.4 in /usr/local/lib/python3.6/dist-packages (from gym) (1.14.6)\n",
            "Requirement already satisfied: requests>=2.0 in /usr/local/lib/python3.6/dist-packages (from gym) (2.18.4)\n",
            "Requirement already satisfied: six in /usr/local/lib/python3.6/dist-packages (from gym) (1.11.0)\n",
            "Collecting pyglet>=1.2.0 (from gym)\n",
            "\u001b[?25l  Downloading https://files.pythonhosted.org/packages/1c/fc/dad5eaaab68f0c21e2f906a94ddb98175662cc5a654eee404d59554ce0fa/pyglet-1.3.2-py2.py3-none-any.whl (1.0MB)\n",
            "\u001b[K    100% |████████████████████████████████| 1.0MB 12.5MB/s \n",
            "\u001b[?25hRequirement already satisfied: urllib3<1.23,>=1.21.1 in /usr/local/lib/python3.6/dist-packages (from requests>=2.0->gym) (1.22)\n",
            "Requirement already satisfied: idna<2.7,>=2.5 in /usr/local/lib/python3.6/dist-packages (from requests>=2.0->gym) (2.6)\n",
            "Requirement already satisfied: certifi>=2017.4.17 in /usr/local/lib/python3.6/dist-packages (from requests>=2.0->gym) (2018.10.15)\n",
            "Requirement already satisfied: chardet<3.1.0,>=3.0.2 in /usr/local/lib/python3.6/dist-packages (from requests>=2.0->gym) (3.0.4)\n",
            "Requirement already satisfied: future in /usr/local/lib/python3.6/dist-packages (from pyglet>=1.2.0->gym) (0.16.0)\n",
            "Building wheels for collected packages: gym\n",
            "  Running setup.py bdist_wheel for gym ... \u001b[?25l-\b \b\\\b \b|\b \b/\b \bdone\n",
            "\u001b[?25h  Stored in directory: /root/.cache/pip/wheels/ea/ec/dd/33bcc8801d345f0b640fced8a0864a7c8474828564bc5ccf70\n",
            "Successfully built gym\n",
            "Installing collected packages: pyglet, gym\n",
            "Successfully installed gym-0.10.8 pyglet-1.3.2\n"
          ],
          "name": "stdout"
        }
      ]
    },
    {
      "metadata": {
        "id": "WSURCzqYc7yx",
        "colab_type": "code",
        "colab": {}
      },
      "cell_type": "code",
      "source": [
        "import gym\n",
        "import numpy as np\n",
        "import random"
      ],
      "execution_count": 0,
      "outputs": []
    },
    {
      "metadata": {
        "id": "r_vma2OYoVHe",
        "colab_type": "code",
        "colab": {}
      },
      "cell_type": "code",
      "source": [
        "from IPython.display import clear_output\n",
        "import time"
      ],
      "execution_count": 0,
      "outputs": []
    },
    {
      "metadata": {
        "id": "cAQkjSt2dHEi",
        "colab_type": "code",
        "colab": {}
      },
      "cell_type": "code",
      "source": [
        "env = gym.make('Taxi-v2')"
      ],
      "execution_count": 0,
      "outputs": []
    },
    {
      "metadata": {
        "id": "YLDsWrzGdoyi",
        "colab_type": "code",
        "colab": {
          "base_uri": "https://localhost:8080/",
          "height": 34
        },
        "outputId": "741f1fd4-3a5b-4913-de5a-f40d7895b798"
      },
      "cell_type": "code",
      "source": [
        "states=env.observation_space.n\n",
        "actions=env.action_space.n\n",
        "print(states,actions)"
      ],
      "execution_count": 5,
      "outputs": [
        {
          "output_type": "stream",
          "text": [
            "500 6\n"
          ],
          "name": "stdout"
        }
      ]
    },
    {
      "metadata": {
        "id": "IBtsf6h4dv5a",
        "colab_type": "code",
        "colab": {
          "base_uri": "https://localhost:8080/",
          "height": 34
        },
        "outputId": "cae3d5a1-ae1b-4f4c-d847-8c748fd8c303"
      },
      "cell_type": "code",
      "source": [
        "qtable=np.zeros((states,actions))\n",
        "qtable.shape"
      ],
      "execution_count": 6,
      "outputs": [
        {
          "output_type": "execute_result",
          "data": {
            "text/plain": [
              "(500, 6)"
            ]
          },
          "metadata": {
            "tags": []
          },
          "execution_count": 6
        }
      ]
    },
    {
      "metadata": {
        "id": "FvdUA1dueCKe",
        "colab_type": "code",
        "colab": {}
      },
      "cell_type": "code",
      "source": [
        "total_episodes=100000\n",
        "lr=0.9\n",
        "max_steps=400\n",
        "gamma=0.9\n",
        "\n",
        "epsilon=1\n",
        "max_epsilon=1\n",
        "min_epsilon=0.01\n",
        "decay_rate=0.001"
      ],
      "execution_count": 0,
      "outputs": []
    },
    {
      "metadata": {
        "id": "6Df-hrwWfKAl",
        "colab_type": "code",
        "colab": {
          "base_uri": "https://localhost:8080/",
          "height": 34
        },
        "outputId": "fba80ba2-feec-4e1d-f236-67e79d43d262"
      },
      "cell_type": "code",
      "source": [
        "rewards=[]\n",
        "for episode in range(total_episodes):\n",
        "  step=0\n",
        "  total_reward=0\n",
        "  state=env.reset()\n",
        "  for step in range(max_steps):\n",
        "    exp_exp_tradeoff=random.uniform(0,1)\n",
        "    if exp_exp_tradeoff>epsilon:\n",
        "      action=np.argmax(qtable[state,:])\n",
        "    else:\n",
        "      action=env.action_space.sample()\n",
        "    new_state,reward,done,info=env.step(action)\n",
        "    qtable[state,action]+=lr*(reward+gamma*(np.max(qtable[new_state,:]))-qtable[state,action])\n",
        "    total_reward+=reward\n",
        "    state=new_state\n",
        "    if done:\n",
        "      break\n",
        "  rewards.append(total_reward)\n",
        "  epsilon = min_epsilon + (max_epsilon - min_epsilon)*np.exp(-decay_rate*episode) \n",
        "avg_reward=np.sum(rewards)/total_episodes\n",
        "print(avg_reward)\n",
        "env.close()"
      ],
      "execution_count": 12,
      "outputs": [
        {
          "output_type": "stream",
          "text": [
            "5.93443\n"
          ],
          "name": "stdout"
        }
      ]
    },
    {
      "metadata": {
        "id": "FzYJ8rPKinER",
        "colab_type": "code",
        "colab": {}
      },
      "cell_type": "code",
      "source": [
        "for episode in range(2):\n",
        "  total_reward=0\n",
        "  state=env.reset()\n",
        "  print(\"*********************************** Episode : \"+str(episode+1))\n",
        "  time.sleep(1)\n",
        "  env.render()\n",
        "  time.sleep(0.5)\n",
        "  clear_output()\n",
        "  for step in range(400):\n",
        "    action=np.argmax(qtable[state,:])\n",
        "    new_state,reward,done,info=env.step(action)\n",
        "    total_reward+=reward\n",
        "    state=new_state\n",
        "    env.render()\n",
        "    time.sleep(1)\n",
        "    clear_output()\n",
        "    if done:\n",
        "      break\n",
        "  print(\"total reward : \"+str(total_reward))\n",
        "  time.sleep(1.5)\n",
        "  clear_output()"
      ],
      "execution_count": 0,
      "outputs": []
    },
    {
      "metadata": {
        "id": "0sYohZj7lLLR",
        "colab_type": "code",
        "colab": {}
      },
      "cell_type": "code",
      "source": [
        ""
      ],
      "execution_count": 0,
      "outputs": []
    }
  ]
}