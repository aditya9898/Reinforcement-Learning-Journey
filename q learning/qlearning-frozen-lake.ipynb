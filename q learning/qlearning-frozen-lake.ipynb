{
  "nbformat": 4,
  "nbformat_minor": 0,
  "metadata": {
    "colab": {
      "name": "qlearning.ipynb",
      "version": "0.3.2",
      "provenance": [],
      "collapsed_sections": []
    },
    "kernelspec": {
      "name": "python3",
      "display_name": "Python 3"
    },
    "accelerator": "GPU"
  },
  "cells": [
    {
      "metadata": {
        "id": "xLq9TbySgWDp",
        "colab_type": "code",
        "colab": {
          "base_uri": "https://localhost:8080/",
          "height": 394
        },
        "outputId": "cf7b7216-e30f-44fd-f59d-22748913f185"
      },
      "cell_type": "code",
      "source": [
        "!pip install gym"
      ],
      "execution_count": 1,
      "outputs": [
        {
          "output_type": "stream",
          "text": [
            "Collecting gym\n",
            "\u001b[?25l  Downloading https://files.pythonhosted.org/packages/c3/44/3a63e8b87f642db49ac81239620e68df8cfae223dcfda4f8508aec88d204/gym-0.10.8.tar.gz (1.5MB)\n",
            "\u001b[K    100% |████████████████████████████████| 1.5MB 10.3MB/s \n",
            "\u001b[?25hRequirement already satisfied: scipy in /usr/local/lib/python3.6/dist-packages (from gym) (0.19.1)\n",
            "Requirement already satisfied: numpy>=1.10.4 in /usr/local/lib/python3.6/dist-packages (from gym) (1.14.6)\n",
            "Requirement already satisfied: requests>=2.0 in /usr/local/lib/python3.6/dist-packages (from gym) (2.18.4)\n",
            "Requirement already satisfied: six in /usr/local/lib/python3.6/dist-packages (from gym) (1.11.0)\n",
            "Collecting pyglet>=1.2.0 (from gym)\n",
            "\u001b[?25l  Downloading https://files.pythonhosted.org/packages/1c/fc/dad5eaaab68f0c21e2f906a94ddb98175662cc5a654eee404d59554ce0fa/pyglet-1.3.2-py2.py3-none-any.whl (1.0MB)\n",
            "\u001b[K    100% |████████████████████████████████| 1.0MB 12.5MB/s \n",
            "\u001b[?25hRequirement already satisfied: idna<2.7,>=2.5 in /usr/local/lib/python3.6/dist-packages (from requests>=2.0->gym) (2.6)\n",
            "Requirement already satisfied: chardet<3.1.0,>=3.0.2 in /usr/local/lib/python3.6/dist-packages (from requests>=2.0->gym) (3.0.4)\n",
            "Requirement already satisfied: urllib3<1.23,>=1.21.1 in /usr/local/lib/python3.6/dist-packages (from requests>=2.0->gym) (1.22)\n",
            "Requirement already satisfied: certifi>=2017.4.17 in /usr/local/lib/python3.6/dist-packages (from requests>=2.0->gym) (2018.10.15)\n",
            "Requirement already satisfied: future in /usr/local/lib/python3.6/dist-packages (from pyglet>=1.2.0->gym) (0.16.0)\n",
            "Building wheels for collected packages: gym\n",
            "  Running setup.py bdist_wheel for gym ... \u001b[?25l-\b \b\\\b \b|\b \b/\b \bdone\n",
            "\u001b[?25h  Stored in directory: /root/.cache/pip/wheels/ea/ec/dd/33bcc8801d345f0b640fced8a0864a7c8474828564bc5ccf70\n",
            "Successfully built gym\n",
            "Installing collected packages: pyglet, gym\n",
            "Successfully installed gym-0.10.8 pyglet-1.3.2\n"
          ],
          "name": "stdout"
        }
      ]
    },
    {
      "metadata": {
        "id": "O2iduzFtze7j",
        "colab_type": "code",
        "colab": {}
      },
      "cell_type": "code",
      "source": [
        "import numpy as np\n",
        "import gym\n",
        "import random"
      ],
      "execution_count": 0,
      "outputs": []
    },
    {
      "metadata": {
        "id": "3FtXH1k0gd8c",
        "colab_type": "code",
        "colab": {}
      },
      "cell_type": "code",
      "source": [
        "env = gym.make(\"FrozenLake-v0\")"
      ],
      "execution_count": 0,
      "outputs": []
    },
    {
      "metadata": {
        "id": "N7ALZw10hh-M",
        "colab_type": "code",
        "colab": {
          "base_uri": "https://localhost:8080/",
          "height": 34
        },
        "outputId": "455f85b7-c229-429f-89ad-8bd38989505e"
      },
      "cell_type": "code",
      "source": [
        "action_size=env.action_space.n\n",
        "state_size=env.observation_space.n\n",
        "\n",
        "print(state_size,action_size)"
      ],
      "execution_count": 4,
      "outputs": [
        {
          "output_type": "stream",
          "text": [
            "16 4\n"
          ],
          "name": "stdout"
        }
      ]
    },
    {
      "metadata": {
        "id": "kYrHz4DIhrl6",
        "colab_type": "code",
        "colab": {
          "base_uri": "https://localhost:8080/",
          "height": 289
        },
        "outputId": "6de5b4c8-63b3-48a1-f853-09b708fb8d88"
      },
      "cell_type": "code",
      "source": [
        "qtable=np.zeros((state_size,action_size))\n",
        "qtable"
      ],
      "execution_count": 5,
      "outputs": [
        {
          "output_type": "execute_result",
          "data": {
            "text/plain": [
              "array([[0., 0., 0., 0.],\n",
              "       [0., 0., 0., 0.],\n",
              "       [0., 0., 0., 0.],\n",
              "       [0., 0., 0., 0.],\n",
              "       [0., 0., 0., 0.],\n",
              "       [0., 0., 0., 0.],\n",
              "       [0., 0., 0., 0.],\n",
              "       [0., 0., 0., 0.],\n",
              "       [0., 0., 0., 0.],\n",
              "       [0., 0., 0., 0.],\n",
              "       [0., 0., 0., 0.],\n",
              "       [0., 0., 0., 0.],\n",
              "       [0., 0., 0., 0.],\n",
              "       [0., 0., 0., 0.],\n",
              "       [0., 0., 0., 0.],\n",
              "       [0., 0., 0., 0.]])"
            ]
          },
          "metadata": {
            "tags": []
          },
          "execution_count": 5
        }
      ]
    },
    {
      "metadata": {
        "id": "ZtKeh3Gjh--N",
        "colab_type": "text"
      },
      "cell_type": "markdown",
      "source": [
        "# Initialize the parameters:"
      ]
    },
    {
      "metadata": {
        "id": "tes1srQzh8pS",
        "colab_type": "code",
        "colab": {}
      },
      "cell_type": "code",
      "source": [
        "total_episodes=25000\n",
        "learning_rate=0.8\n",
        "max_steps=99\n",
        "gamma=0.90 # Discounting rate"
      ],
      "execution_count": 0,
      "outputs": []
    },
    {
      "metadata": {
        "id": "uBdoQqeTj7kn",
        "colab_type": "code",
        "colab": {}
      },
      "cell_type": "code",
      "source": [
        "epsilon=1 # Exploraton rate\n",
        "max_epsilon=1\n",
        "min_epsilon=0.01\n",
        "decay_rate=0.01 # Exponential decay rate for exploration prob"
      ],
      "execution_count": 0,
      "outputs": []
    },
    {
      "metadata": {
        "id": "XDTQgKe0lGiT",
        "colab_type": "text"
      },
      "cell_type": "markdown",
      "source": [
        "# The Q learning algirithm:"
      ]
    },
    {
      "metadata": {
        "id": "76Z2KN_DkUSH",
        "colab_type": "code",
        "colab": {
          "base_uri": "https://localhost:8080/",
          "height": 306
        },
        "outputId": "302b912e-0777-4561-b0be-9fda6da148d1"
      },
      "cell_type": "code",
      "source": [
        "rewards=[]\n",
        "for episode in range(total_episodes):\n",
        "  state=env.reset()\n",
        "  step=0\n",
        "  done=False\n",
        "  total_rewards=0\n",
        "  \n",
        "  for step in range(max_steps):\n",
        "    exp_exp_tradeoff=random.uniform(0,1)\n",
        "    if exp_exp_tradeoff>epsilon:\n",
        "      action=np.argmax(qtable[state,:])\n",
        "    else:\n",
        "      action=env.action_space.sample()\n",
        "    \n",
        "    new_state,reward,done,info=env.step(action)\n",
        "    \n",
        "    qtable[state,action]+=learning_rate*(reward+gamma*(np.max(qtable[new_state,:]))-qtable[state,action]) # Updating Q table values \n",
        "    \n",
        "    total_rewards+=reward\n",
        "    state=new_state\n",
        "    \n",
        "    if done==True:\n",
        "      break\n",
        "      \n",
        "  epsilon = min_epsilon + (max_epsilon - min_epsilon)*np.exp(-decay_rate*episode) \n",
        "  rewards.append(total_rewards)\n",
        "  \n",
        "print(\"score over time : \"+str(sum(rewards)/total_episodes))\n",
        "print(qtable)"
      ],
      "execution_count": 8,
      "outputs": [
        {
          "output_type": "stream",
          "text": [
            "score over time : 0.43056\n",
            "[[2.04625914e-01 6.61707634e-03 4.56550851e-03 6.44876654e-03]\n",
            " [4.39868768e-04 6.83178283e-04 8.87671849e-04 6.20149870e-02]\n",
            " [8.82116565e-04 1.92783963e-04 1.52232352e-03 1.38178052e-03]\n",
            " [5.37903907e-04 1.01523335e-03 2.72975565e-04 1.34573144e-03]\n",
            " [3.83860660e-01 1.70639950e-03 2.00305714e-03 5.80477373e-03]\n",
            " [0.00000000e+00 0.00000000e+00 0.00000000e+00 0.00000000e+00]\n",
            " [1.75885767e-02 1.72654619e-06 1.26452659e-05 1.23767989e-05]\n",
            " [0.00000000e+00 0.00000000e+00 0.00000000e+00 0.00000000e+00]\n",
            " [3.30372922e-03 2.44909063e-03 3.19514149e-03 6.28635001e-01]\n",
            " [7.75062098e-04 4.32719392e-01 3.43991518e-04 2.84421763e-02]\n",
            " [1.51406499e-01 8.30550215e-04 1.73247403e-03 1.80453917e-04]\n",
            " [0.00000000e+00 0.00000000e+00 0.00000000e+00 0.00000000e+00]\n",
            " [0.00000000e+00 0.00000000e+00 0.00000000e+00 0.00000000e+00]\n",
            " [1.60547422e-02 8.23514746e-05 8.81794864e-01 2.99026581e-02]\n",
            " [1.00191956e-01 9.98522270e-01 1.05516388e-01 7.37748564e-02]\n",
            " [0.00000000e+00 0.00000000e+00 0.00000000e+00 0.00000000e+00]]\n"
          ],
          "name": "stdout"
        }
      ]
    },
    {
      "metadata": {
        "id": "J1CvqXALol9k",
        "colab_type": "code",
        "colab": {
          "base_uri": "https://localhost:8080/",
          "height": 1377
        },
        "outputId": "dc28a33b-0ca4-46cb-9bba-c359495b4d58"
      },
      "cell_type": "code",
      "source": [
        "for episode in range(10):\n",
        "  state=env.reset()\n",
        "  step=0\n",
        "  done=False\n",
        "  print(\"****************************************************\")\n",
        "  print(\"EPISODE \", episode)\n",
        "  for step in range(max_steps):\n",
        "    action=np.argmax(qtable[state,:])\n",
        "    new_state,reward,done,info=env.step(action)\n",
        "    if done:\n",
        "      env.render()\n",
        "      print(\"number of steps : \"+str(step))\n",
        "      break\n",
        "    state=new_state\n",
        "env.close()"
      ],
      "execution_count": 60,
      "outputs": [
        {
          "output_type": "stream",
          "text": [
            "****************************************************\n",
            "EPISODE  0\n",
            "  (Right)\n",
            "SFFF\n",
            "FHF\u001b[41mH\u001b[0m\n",
            "FFFH\n",
            "HFFG\n",
            "number of steps : 11\n",
            "****************************************************\n",
            "EPISODE  1\n",
            "  (Down)\n",
            "SFFF\n",
            "FHFH\n",
            "FFFH\n",
            "HFF\u001b[41mG\u001b[0m\n",
            "number of steps : 8\n",
            "****************************************************\n",
            "EPISODE  2\n",
            "  (Down)\n",
            "SFFF\n",
            "FHFH\n",
            "FFFH\n",
            "HFF\u001b[41mG\u001b[0m\n",
            "number of steps : 16\n",
            "****************************************************\n",
            "EPISODE  3\n",
            "  (Down)\n",
            "SFFF\n",
            "FHFH\n",
            "FFFH\n",
            "HFF\u001b[41mG\u001b[0m\n",
            "number of steps : 55\n",
            "****************************************************\n",
            "EPISODE  4\n",
            "  (Down)\n",
            "SFFF\n",
            "FHFH\n",
            "FFFH\n",
            "HFF\u001b[41mG\u001b[0m\n",
            "number of steps : 21\n",
            "****************************************************\n",
            "EPISODE  5\n",
            "  (Down)\n",
            "SFFF\n",
            "FHFH\n",
            "FFFH\n",
            "HFF\u001b[41mG\u001b[0m\n",
            "number of steps : 36\n",
            "****************************************************\n",
            "EPISODE  6\n",
            "  (Down)\n",
            "SFFF\n",
            "FHFH\n",
            "FFFH\n",
            "HFF\u001b[41mG\u001b[0m\n",
            "number of steps : 43\n",
            "****************************************************\n",
            "EPISODE  7\n",
            "  (Down)\n",
            "SFFF\n",
            "FHFH\n",
            "FFFH\n",
            "HFF\u001b[41mG\u001b[0m\n",
            "number of steps : 46\n",
            "****************************************************\n",
            "EPISODE  8\n",
            "  (Down)\n",
            "SFFF\n",
            "FHFH\n",
            "FFFH\n",
            "HFF\u001b[41mG\u001b[0m\n",
            "number of steps : 34\n",
            "****************************************************\n",
            "EPISODE  9\n",
            "  (Right)\n",
            "SFFF\n",
            "FHF\u001b[41mH\u001b[0m\n",
            "FFFH\n",
            "HFFG\n",
            "number of steps : 18\n"
          ],
          "name": "stdout"
        }
      ]
    },
    {
      "metadata": {
        "id": "3Ay8HeuSrEEa",
        "colab_type": "code",
        "colab": {}
      },
      "cell_type": "code",
      "source": [
        ""
      ],
      "execution_count": 0,
      "outputs": []
    }
  ]
}